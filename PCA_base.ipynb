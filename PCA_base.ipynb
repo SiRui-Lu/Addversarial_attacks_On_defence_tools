{
  "nbformat": 4,
  "nbformat_minor": 0,
  "metadata": {
    "colab": {
      "name": "PCA_base.ipynb",
      "provenance": [],
      "authorship_tag": "ABX9TyP6/vi8nonpZ0vQfv0VIHe3",
      "include_colab_link": true
    },
    "kernelspec": {
      "name": "python3",
      "display_name": "Python 3"
    }
  },
  "cells": [
    {
      "cell_type": "markdown",
      "metadata": {
        "id": "view-in-github",
        "colab_type": "text"
      },
      "source": [
        "<a href=\"https://colab.research.google.com/github/SiRui-Lu/Addversarial_attacks_On_defence_tools/blob/main/PCA_base.ipynb\" target=\"_parent\"><img src=\"https://colab.research.google.com/assets/colab-badge.svg\" alt=\"Open In Colab\"/></a>"
      ]
    },
    {
      "cell_type": "code",
      "metadata": {
        "id": "Hyfe2595PSbE",
        "outputId": "6c68a1fd-9bb5-4f4f-e423-d9ada36c7f42",
        "colab": {
          "base_uri": "https://localhost:8080/",
          "height": 102
        }
      },
      "source": [
        "!pip install --upgrade -q adversarial-robustness-toolbox==1.3.3"
      ],
      "execution_count": 1,
      "outputs": [
        {
          "output_type": "stream",
          "text": [
            "\u001b[K     |████████████████████████████████| 655kB 2.8MB/s \n",
            "\u001b[K     |████████████████████████████████| 6.8MB 7.7MB/s \n",
            "\u001b[K     |████████████████████████████████| 21.0MB 63.9MB/s \n",
            "\u001b[K     |████████████████████████████████| 235kB 53.6MB/s \n",
            "\u001b[K     |████████████████████████████████| 747kB 46.7MB/s \n",
            "\u001b[?25h"
          ],
          "name": "stdout"
        }
      ]
    },
    {
      "cell_type": "markdown",
      "metadata": {
        "id": "hAAORCBzdu6m"
      },
      "source": [
        "# Dataset preprocssing: Normalisation\n",
        "\n",
        "Tring to scale the distribution to a mean of zero and a standard deviation of one for each feature value"
      ]
    },
    {
      "cell_type": "code",
      "metadata": {
        "id": "LmZx8ZBLPnHC",
        "outputId": "06450de3-803f-4fcc-f26c-7620b365ea31",
        "colab": {
          "base_uri": "https://localhost:8080/",
          "height": 238
        }
      },
      "source": [
        "from sklearn.datasets import load_breast_cancer\n",
        "import numpy as np\n",
        "import pandas as pd\n",
        "from sklearn.preprocessing import OneHotEncoder\n",
        "breast = load_breast_cancer()\n",
        "#-----------------------------\n",
        "breast_data = breast.data\n",
        "breast_label = breast.target\n",
        "#-----------------------------\n",
        "labels = np.reshape(breast_label,(569,1))\n",
        "ohe = OneHotEncoder() #in order to feed the label into NN, we have to change it to binary code ####\n",
        "y = ohe.fit_transform(labels).toarray()\n",
        "\n",
        "#concatenate data and label together\n",
        "final_breast_data = np.concatenate([breast_data,labels],axis=1)\n",
        "\n",
        "#converting np array to dataframe\n",
        "breast_dataset = pd.DataFrame(final_breast_data)\n",
        "\n",
        "#adding features label into the dataframe\n",
        "features = breast.feature_names\n",
        "features_labels = np.append(features,'label')\n",
        "breast_dataset.columns = features_labels\n",
        "# changing the label 0/1 to the real value\n",
        "# breast_dataset['label'].replace(0, 'Benign',inplace=True)\n",
        "# breast_dataset['label'].replace(1, 'Malignant',inplace=True)\n",
        "\n"
      ],
      "execution_count": 62,
      "outputs": [
        {
          "output_type": "execute_result",
          "data": {
            "text/plain": [
              "array([[1.799e+01, 1.038e+01, 1.228e+02, ..., 2.654e-01, 4.601e-01,\n",
              "        1.189e-01],\n",
              "       [2.057e+01, 1.777e+01, 1.329e+02, ..., 1.860e-01, 2.750e-01,\n",
              "        8.902e-02],\n",
              "       [1.969e+01, 2.125e+01, 1.300e+02, ..., 2.430e-01, 3.613e-01,\n",
              "        8.758e-02],\n",
              "       ...,\n",
              "       [1.660e+01, 2.808e+01, 1.083e+02, ..., 1.418e-01, 2.218e-01,\n",
              "        7.820e-02],\n",
              "       [2.060e+01, 2.933e+01, 1.401e+02, ..., 2.650e-01, 4.087e-01,\n",
              "        1.240e-01],\n",
              "       [7.760e+00, 2.454e+01, 4.792e+01, ..., 0.000e+00, 2.871e-01,\n",
              "        7.039e-02]])"
            ]
          },
          "metadata": {
            "tags": []
          },
          "execution_count": 62
        }
      ]
    },
    {
      "cell_type": "code",
      "metadata": {
        "id": "3O8E05sHWe18",
        "outputId": "cfe7f523-1407-4c70-e898-7dba6c6de802",
        "colab": {
          "base_uri": "https://localhost:8080/",
          "height": 34
        }
      },
      "source": [
        "from sklearn.preprocessing import StandardScaler\n",
        "x = breast_dataset.loc[:, features].values\n",
        "x = StandardScaler().fit_transform(x) # normalizing the features\n",
        "print(np.mean(x),np.std(x)) #each feature of your data should be normally distributed such that it will scale the distribution to a mean of zero and a standard deviation of one\n",
        "\n",
        "#converting normalised feature data into the dataframe\n",
        "feat_cols = ['feature'+str(i) for i in range(x.shape[1])]\n",
        "normalised_breast = pd.DataFrame(x,columns=feat_cols)\n",
        "\n",
        "X_max = np.max(x, axis=0)\n",
        "X_min = np.min(x, axis=0)\n"
      ],
      "execution_count": 59,
      "outputs": [
        {
          "output_type": "stream",
          "text": [
            "-6.118909323768877e-16 1.0\n"
          ],
          "name": "stdout"
        }
      ]
    },
    {
      "cell_type": "markdown",
      "metadata": {
        "id": "sBlAb9eneT5X"
      },
      "source": [
        "# Model and classifier training\n",
        "\n",
        "\n",
        "\n",
        "*   x is the preprocessed data\n",
        "*   y is the binary value of labels\n",
        "\n",
        "\n",
        "\n"
      ]
    },
    {
      "cell_type": "code",
      "metadata": {
        "id": "OGWwPdVrdkj6"
      },
      "source": [
        "import numpy as np\n",
        "from sklearn import datasets\n",
        "from sklearn.decomposition import PCA\n",
        "from sklearn.svm import SVC\n",
        "from sklearn.model_selection import train_test_split\n",
        "from sklearn.datasets import load_breast_cancer\n",
        "from sklearn.metrics import accuracy_score\n",
        "# import matplotlib.pyplot as plt\n",
        "import tensorflow as tf\n",
        "import art\n",
        "# Keras model generating\n",
        "import keras\n",
        "from keras.models import Sequential\n",
        "from keras.layers import Dense\n",
        "import numpy as np\n",
        "\n",
        "from art.attacks.evasion import FastGradientMethod\n",
        "from art.estimators.classification import KerasClassifier\n",
        "from tensorflow.python.framework.ops import disable_eager_execution\n",
        "\n",
        "X_train, X_test, y_train, y_test = train_test_split(x, y, test_size=0.2, random_state=40) # training and test dataset\n",
        "\n",
        "disable_eager_execution()\n",
        "\n",
        "\n",
        "\n",
        "# kersa model creating\n",
        "model = Sequential()\n",
        "model.add(Dense(20, input_dim=30, activation='relu'))\n",
        "model.add(Dense(15, activation='relu'))\n",
        "model.add(Dense(8, activation='relu'))\n",
        "model.add(Dense(2, activation='softmax'))\n",
        "\n",
        "model.compile(loss='categorical_crossentropy', optimizer='adam', metrics=['accuracy'])\n",
        "\n",
        "# model.compile(\n",
        "#     loss=keras.losses.categorical_crossentropy, optimizer=keras.optimizers.Adam(lr=0.01), metrics=[\"accuracy\"]\n",
        "# )\n",
        "\n",
        "#generating the KerasClassifier from ART based on previous NN model\n",
        "classifier = KerasClassifier(model=model, clip_values=(X_min, X_max), use_logits=False)\n",
        "\n",
        "classifier.fit(X_train,y_train,batch_size=64,nb_epochs=100)\n"
      ],
      "execution_count": null,
      "outputs": []
    },
    {
      "cell_type": "markdown",
      "metadata": {
        "id": "lPQt8urvm7Xq"
      },
      "source": [
        "Converting predicted data from binary value to labels"
      ]
    },
    {
      "cell_type": "code",
      "metadata": {
        "id": "ZhkOhxarmqBY",
        "outputId": "0d78336f-4704-4ef7-a6fa-b811b63113c0",
        "colab": {
          "base_uri": "https://localhost:8080/",
          "height": 54
        }
      },
      "source": [
        "y_pred = classifier.predict(X_test)\n",
        "#Converting predictions to label\n",
        "def pre_to_label(y_pred):\n",
        "  pred = list()\n",
        "  for i in range(len(y_pred)):\n",
        "      pred.append(np.argmax(y_pred[i]))\n",
        "  return pred\n",
        "\n",
        "#Converting one hot encoded test label to label\n",
        "test = list()\n",
        "for i in range(len(y_test)):\n",
        "  test.append(np.argmax(y_test[i]))\n",
        "\n",
        "\n",
        "label_y_pred = pre_to_label(y_pred)\n",
        "print(label_y_pred)\n"
      ],
      "execution_count": 110,
      "outputs": [
        {
          "output_type": "stream",
          "text": [
            "[1, 0, 1, 1, 0, 1, 1, 1, 1, 1, 0, 1, 1, 1, 0, 1, 1, 1, 1, 1, 1, 0, 1, 0, 0, 0, 0, 0, 1, 1, 1, 0, 0, 1, 1, 1, 1, 0, 1, 1, 0, 1, 1, 1, 0, 0, 1, 1, 0, 1, 0, 1, 1, 1, 1, 1, 0, 0, 0, 1, 1, 1, 1, 1, 1, 0, 0, 0, 1, 1, 1, 0, 0, 1, 0, 0, 0, 1, 1, 1, 1, 1, 0, 1, 0, 1, 0, 0, 1, 0, 0, 1, 1, 1, 1, 0, 1, 1, 1, 1, 1, 1, 1, 0, 1, 1, 1, 0, 1, 1, 1, 1, 0, 1]\n"
          ],
          "name": "stdout"
        }
      ]
    },
    {
      "cell_type": "markdown",
      "metadata": {
        "id": "kjNrLgvMnK08"
      },
      "source": [
        "Assess the accuracy of the trained classifier"
      ]
    },
    {
      "cell_type": "code",
      "metadata": {
        "id": "7BQVKnp0nINF",
        "outputId": "cd7c6ff7-bf2e-4230-d903-722201ee82b1",
        "colab": {
          "base_uri": "https://localhost:8080/",
          "height": 34
        }
      },
      "source": [
        "from sklearn.metrics import accuracy_score\n",
        "a = accuracy_score(label_y_pred,test)\n",
        "print(\"Accuracy of unattacked model: {}%\".format(a*100))"
      ],
      "execution_count": 117,
      "outputs": [
        {
          "output_type": "stream",
          "text": [
            "Accuracy of unattacked model: 98.24561403508771%\n"
          ],
          "name": "stdout"
        }
      ]
    },
    {
      "cell_type": "markdown",
      "metadata": {
        "id": "kEib8dLpqYSM"
      },
      "source": [
        "# Attacks"
      ]
    },
    {
      "cell_type": "markdown",
      "metadata": {
        "id": "NoVSaOMpwgTq"
      },
      "source": [
        "FGM"
      ]
    },
    {
      "cell_type": "code",
      "metadata": {
        "id": "tmz7Id9An94f",
        "outputId": "07bde6c4-fb23-4218-e063-1ff8f5dc9f3d",
        "colab": {
          "base_uri": "https://localhost:8080/",
          "height": 34
        }
      },
      "source": [
        "#generating attack samples\n",
        "attack = FastGradientMethod(estimator=classifier, eps=0.3)\n",
        "x_test_adv = attack.generate(x=X_test)\n",
        "\n",
        "predictions = classifier.predict(x_test_adv)\n",
        "p = pre_to_label(predictions)\n",
        "attack_a = accuracy_score(p,test)\n",
        "print(\"Accuracy on FGM test examples: {}%\".format(attack_a * 100))"
      ],
      "execution_count": 185,
      "outputs": [
        {
          "output_type": "stream",
          "text": [
            "Accuracy on FGM test examples: 72.80701754385966%\n"
          ],
          "name": "stdout"
        }
      ]
    },
    {
      "cell_type": "markdown",
      "metadata": {
        "id": "9A85bgj2wjFu"
      },
      "source": [
        "Deep Fool"
      ]
    },
    {
      "cell_type": "code",
      "metadata": {
        "id": "MbP9MaHzwzGR",
        "outputId": "fc12cae4-e94e-43be-eec4-c91d7bd492b6",
        "colab": {
          "base_uri": "https://localhost:8080/",
          "height": 731
        }
      },
      "source": [
        "from art.attacks.evasion import DeepFool\n",
        "adv_crafter = DeepFool(classifier)\n",
        "# x_train_adv = adv_crafter.generate(X_train)\n",
        "x_test_adv = adv_crafter.generate(X_test)\n",
        "\n",
        "predictions = classifier.predict(x_test_adv)\n",
        "p = pre_to_label(predictions)\n",
        "attack_a = accuracy_score(p,test)\n",
        "print(\"Accuracy on DeepFool attacked test examples: {}%\".format(attack_a * 100))\n"
      ],
      "execution_count": 186,
      "outputs": [
        {
          "output_type": "stream",
          "text": [
            "\n",
            "\n",
            "DeepFool:   0%|          | 0/114 [00:00<?, ?it/s]\u001b[A\u001b[A\n",
            "\n",
            "DeepFool:   1%|          | 1/114 [00:00<00:27,  4.06it/s]\u001b[A\u001b[A\n",
            "\n",
            "DeepFool:  13%|█▎        | 15/114 [00:00<00:17,  5.60it/s]\u001b[A\u001b[A\n",
            "\n",
            "DeepFool:  19%|█▉        | 22/114 [00:00<00:12,  7.47it/s]\u001b[A\u001b[A\n",
            "\n",
            "DeepFool:  22%|██▏       | 25/114 [00:00<00:10,  8.73it/s]\u001b[A\u001b[A\n",
            "\n",
            "DeepFool:  24%|██▎       | 27/114 [00:01<00:09,  9.03it/s]\u001b[A\u001b[A\n",
            "\n",
            "DeepFool:  25%|██▌       | 29/114 [00:01<00:09,  9.35it/s]\u001b[A\u001b[A\n",
            "\n",
            "DeepFool:  28%|██▊       | 32/114 [00:01<00:07, 10.59it/s]\u001b[A\u001b[A\n",
            "\n",
            "DeepFool:  30%|██▉       | 34/114 [00:01<00:07, 11.23it/s]\u001b[A\u001b[A\n",
            "\n",
            "DeepFool:  36%|███▌      | 41/114 [00:01<00:05, 14.04it/s]\u001b[A\u001b[A\n",
            "\n",
            "DeepFool:  39%|███▉      | 45/114 [00:02<00:04, 15.50it/s]\u001b[A\u001b[A\n",
            "\n",
            "DeepFool:  43%|████▎     | 49/114 [00:02<00:03, 16.47it/s]\u001b[A\u001b[A\n",
            "\n",
            "DeepFool:  45%|████▍     | 51/114 [00:02<00:04, 13.93it/s]\u001b[A\u001b[A\n",
            "\n",
            "DeepFool:  53%|█████▎    | 60/114 [00:02<00:03, 17.49it/s]\u001b[A\u001b[A\n",
            "\n",
            "DeepFool:  64%|██████▍   | 73/114 [00:02<00:01, 22.18it/s]\u001b[A\u001b[A\n",
            "\n",
            "DeepFool:  68%|██████▊   | 77/114 [00:03<00:01, 20.20it/s]\u001b[A\u001b[A\n",
            "\n",
            "DeepFool:  76%|███████▋  | 87/114 [00:03<00:01, 24.27it/s]\u001b[A\u001b[A\n",
            "\n",
            "DeepFool:  84%|████████▍ | 96/114 [00:03<00:00, 27.65it/s]\u001b[A\u001b[A\n",
            "\n",
            "DeepFool:  91%|█████████ | 104/114 [00:03<00:00, 28.86it/s]\u001b[A\u001b[A\n",
            "\n",
            "DeepFool: 100%|██████████| 114/114 [00:04<00:00, 28.02it/s]\n"
          ],
          "name": "stderr"
        },
        {
          "output_type": "stream",
          "text": [
            "Accuracy on DeepFool attacked test examples: 18.421052631578945%\n"
          ],
          "name": "stdout"
        }
      ]
    },
    {
      "cell_type": "markdown",
      "metadata": {
        "id": "gfmDXNSV0wEv"
      },
      "source": [
        "Basic Iterative Method (BIM)"
      ]
    },
    {
      "cell_type": "code",
      "metadata": {
        "id": "aP6bID7dyOFe",
        "outputId": "72ed5956-2bc9-4fcd-a53f-41fc8add46bc",
        "colab": {
          "base_uri": "https://localhost:8080/",
          "height": 34
        }
      },
      "source": [
        "from art.attacks.evasion import BasicIterativeMethod as bim\n",
        "attack = bim(classifier, eps=0.3)\n",
        "x_test_adv = attack.generate(x=X_test)\n",
        "\n",
        "predictions = classifier.predict(x_test_adv)\n",
        "p = pre_to_label(predictions)\n",
        "attack_a = accuracy_score(p,test)\n",
        "print(\"Accuracy on BIM test examples: {}%\".format(attack_a * 100))"
      ],
      "execution_count": 140,
      "outputs": [
        {
          "output_type": "stream",
          "text": [
            "Accuracy on BIM test examples: 49.122807017543856%\n"
          ],
          "name": "stdout"
        }
      ]
    },
    {
      "cell_type": "markdown",
      "metadata": {
        "id": "QPSmD5wn01K9"
      },
      "source": [
        "C&W L2"
      ]
    },
    {
      "cell_type": "code",
      "metadata": {
        "id": "JoE9qJIG0-z8",
        "outputId": "5ae7c998-b4d8-4dd5-d328-0164fec25d17",
        "colab": {
          "base_uri": "https://localhost:8080/",
          "height": 51
        }
      },
      "source": [
        "from art.attacks.evasion import CarliniL2Method\n",
        "attack = CarliniL2Method(classifier)\n",
        "x_test_adv = attack.generate(x=X_test)\n",
        "\n",
        "predictions = classifier.predict(x_test_adv)\n",
        "p = pre_to_label(predictions)\n",
        "attack_a = accuracy_score(p,test)\n",
        "print(\"Accuracy on C&W L2 test examples: {}%\".format(attack_a * 100))"
      ],
      "execution_count": 142,
      "outputs": [
        {
          "output_type": "stream",
          "text": [
            "C&W L_2: 100%|██████████| 114/114 [01:24<00:00,  1.35it/s]\n"
          ],
          "name": "stderr"
        },
        {
          "output_type": "stream",
          "text": [
            "Accuracy on C&W L2 test examples: 86.8421052631579%\n"
          ],
          "name": "stdout"
        }
      ]
    },
    {
      "cell_type": "markdown",
      "metadata": {
        "id": "bUzYCgdt2PLq"
      },
      "source": [
        "Boundary attack"
      ]
    },
    {
      "cell_type": "code",
      "metadata": {
        "id": "z_YEGh5P2QsR",
        "outputId": "81a936c3-957f-4592-cc1d-1f0ef4aa6cfd",
        "colab": {
          "base_uri": "https://localhost:8080/",
          "height": 136
        }
      },
      "source": [
        "from art.attacks.evasion import BoundaryAttack\n",
        "attack = BoundaryAttack(classifier)\n",
        "x_test_adv = attack.generate(x=X_test,y=y_test)\n",
        "\n",
        "predictions = classifier.predict(x_test_adv)\n",
        "p = pre_to_label(predictions)\n",
        "attack_a = accuracy_score(p,test)\n",
        "print(\"Accuracy on BoundaryAttack test examples: {}%\".format(attack_a * 100))"
      ],
      "execution_count": 152,
      "outputs": [
        {
          "output_type": "stream",
          "text": [
            "\n",
            "Boundary attack:   0%|          | 0/114 [00:00<?, ?it/s]\u001b[A\n",
            "Boundary attack:  50%|█████     | 57/114 [02:30<02:30,  2.63s/it]\u001b[A\n",
            "Boundary attack:  52%|█████▏    | 59/114 [04:55<21:43, 23.70s/it]\u001b[A\n",
            "Boundary attack:  54%|█████▎    | 61/114 [07:27<34:47, 39.39s/it]\u001b[A\n",
            "Boundary attack: 100%|██████████| 114/114 [09:56<00:00,  5.23s/it]"
          ],
          "name": "stderr"
        },
        {
          "output_type": "stream",
          "text": [
            "Accuracy on BoundaryAttack test examples: 96.49122807017544%\n"
          ],
          "name": "stdout"
        },
        {
          "output_type": "stream",
          "text": [
            "\n"
          ],
          "name": "stderr"
        }
      ]
    },
    {
      "cell_type": "markdown",
      "metadata": {
        "id": "Agd-FuRlYK1N"
      },
      "source": [
        "# PCA applied"
      ]
    },
    {
      "cell_type": "markdown",
      "metadata": {
        "id": "iHpDtIQpx6Dk"
      },
      "source": [
        "PCA generator"
      ]
    },
    {
      "cell_type": "code",
      "metadata": {
        "id": "kcPOFPksx3Ka",
        "outputId": "885048e1-d2c6-4152-8415-174405995933",
        "colab": {
          "base_uri": "https://localhost:8080/",
          "height": 34
        }
      },
      "source": [
        "from sklearn.decomposition import PCA\n",
        "\n",
        "ncom = 4\n",
        "pca_dataset = PCA(n_components=ncom)\n",
        "pc_data = pca_dataset.fit_transform(x)\n",
        "\n",
        "px_train, px_test, py_train, py_test = train_test_split(pc_data,y,test_size = 0.2)\n",
        "\n",
        "X_max = np.max(pc_data, axis=0)\n",
        "X_min = np.min(pc_data, axis=0)\n"
      ],
      "execution_count": 178,
      "outputs": [
        {
          "output_type": "execute_result",
          "data": {
            "text/plain": [
              "array([16.31923323, 12.57319412, 10.11242619,  5.19425215])"
            ]
          },
          "metadata": {
            "tags": []
          },
          "execution_count": 178
        }
      ]
    },
    {
      "cell_type": "markdown",
      "metadata": {
        "id": "T4hyZuLUx9KY"
      },
      "source": [
        "PCA model"
      ]
    },
    {
      "cell_type": "code",
      "metadata": {
        "id": "KsQ11ekQYPx2"
      },
      "source": [
        "pcamodel = Sequential()\n",
        "pcamodel.add(Dense(8, input_dim=ncom, activation='relu'))\n",
        "pcamodel.add(Dense(6, activation='relu'))\n",
        "pcamodel.add(Dense(4, activation='relu'))\n",
        "pcamodel.add(Dense(2, activation='softmax'))\n",
        "pcamodel.compile(loss='categorical_crossentropy', optimizer='adam', metrics=['accuracy'])\n",
        "\n",
        "pca_classifier = KerasClassifier(model=pcamodel, clip_values=(X_min, X_max), use_logits=False)\n",
        "\n",
        "pca_classifier.fit(px_train,py_train,batch_size=64,nb_epochs=100)\n"
      ],
      "execution_count": null,
      "outputs": []
    },
    {
      "cell_type": "markdown",
      "metadata": {
        "id": "dpmPT-xRz8Fu"
      },
      "source": [
        "Unattacked PCA model performance"
      ]
    },
    {
      "cell_type": "code",
      "metadata": {
        "id": "cM05v7_GyOzX",
        "outputId": "e3bfee48-3d7e-44ad-cb03-52be8797ee1f",
        "colab": {
          "base_uri": "https://localhost:8080/",
          "height": 34
        }
      },
      "source": [
        "pca_pre = pca_classifier.predict(px_test)\n",
        "#Converting one hot encoded test label to label\n",
        "pca_test = list()\n",
        "for i in range(len(y_test)):\n",
        "  pca_test.append(np.argmax(y_test[i]))\n",
        "\n",
        "label_pca_pre = pre_to_label(pca_pre)\n",
        "\n",
        "a1 = accuracy_score(label_y_pred,test)\n",
        "print(\"Accuracy of unattacked pca model: {}%\".format(a1*100))\n",
        "\n"
      ],
      "execution_count": 180,
      "outputs": [
        {
          "output_type": "stream",
          "text": [
            "Accuracy of unattacked pca model: 98.24561403508771%\n"
          ],
          "name": "stdout"
        }
      ]
    },
    {
      "cell_type": "markdown",
      "metadata": {
        "id": "oSfwo9iF0Hjt"
      },
      "source": [
        "Attacks on pca model"
      ]
    },
    {
      "cell_type": "code",
      "metadata": {
        "id": "NKMNrHkM0CBC",
        "outputId": "c1fabd9b-3c1f-4bf9-f2a4-31857c25c7e8",
        "colab": {
          "base_uri": "https://localhost:8080/",
          "height": 1000
        }
      },
      "source": [
        "#FGM\n",
        "attack = FastGradientMethod(estimator=pca_classifier, eps=0.3)\n",
        "x_test_adv = attack.generate(x=px_test)\n",
        "\n",
        "predictions = pca_classifier.predict(x_test_adv)\n",
        "p = pre_to_label(predictions)\n",
        "attack_a2 = accuracy_score(p,pca_test)\n",
        "\n",
        "\n",
        "#DeepFool\n",
        "adv_crafter = DeepFool(pca_classifier)\n",
        "# x_train_adv = adv_crafter.generate(X_train)\n",
        "x_test_adv = adv_crafter.generate(px_test)\n",
        "\n",
        "predictions = pca_classifier.predict(x_test_adv)\n",
        "p = pre_to_label(predictions)\n",
        "attack_a3 = accuracy_score(p,pca_test)\n",
        "\n",
        "\n",
        "#BIM\n",
        "attack = bim(pca_classifier, eps=0.3)\n",
        "x_test_adv = attack.generate(x=px_test)\n",
        "\n",
        "predictions = pca_classifier.predict(x_test_adv)\n",
        "p = pre_to_label(predictions)\n",
        "attack_a4 = accuracy_score(p,pca_test)\n",
        "\n",
        "\n",
        "#CarliniL2\n",
        "attack = CarliniL2Method(pca_classifier)\n",
        "x_test_adv = attack.generate(x=px_test)\n",
        "\n",
        "predictions = pca_classifier.predict(x_test_adv)\n",
        "p = pre_to_label(predictions)\n",
        "attack_a5 = accuracy_score(p,pca_test)\n",
        "\n",
        "\n",
        "#BoundaryAttack\n",
        "attack = BoundaryAttack(pca_classifier)\n",
        "x_test_adv = attack.generate(x=px_test,y=py_test)\n",
        "\n",
        "predictions = pca_classifier.predict(x_test_adv)\n",
        "p = pre_to_label(predictions)\n",
        "attack_a6 = accuracy_score(p,pca_test)\n"
      ],
      "execution_count": null,
      "outputs": [
        {
          "output_type": "stream",
          "text": [
            "\n",
            "\n",
            "DeepFool:   0%|          | 0/114 [00:00<?, ?it/s]\u001b[A\u001b[A\n",
            "\n",
            "DeepFool:  11%|█         | 12/114 [00:00<00:01, 52.79it/s]\u001b[A\u001b[A\n",
            "\n",
            "DeepFool:  39%|███▊      | 44/114 [00:00<00:01, 62.65it/s]\u001b[A\u001b[A\n",
            "\n",
            "DeepFool:  67%|██████▋   | 76/114 [00:00<00:00, 82.53it/s]\u001b[A\u001b[A\n",
            "\n",
            "DeepFool:  79%|███████▉  | 90/114 [00:00<00:00, 73.89it/s]\u001b[A\u001b[A\n",
            "\n",
            "DeepFool: 100%|██████████| 114/114 [00:01<00:00, 102.51it/s]\n",
            "\n",
            "\n",
            "C&W L_2:   0%|          | 0/114 [00:00<?, ?it/s]\u001b[A\u001b[A\n",
            "\n",
            "C&W L_2:   1%|          | 1/114 [00:00<01:34,  1.20it/s]\u001b[A\u001b[A\n",
            "\n",
            "C&W L_2:   2%|▏         | 2/114 [00:01<01:27,  1.29it/s]\u001b[A\u001b[A\n",
            "\n",
            "C&W L_2:   3%|▎         | 3/114 [00:02<01:21,  1.37it/s]\u001b[A\u001b[A\n",
            "\n",
            "C&W L_2:   4%|▎         | 4/114 [00:02<01:17,  1.41it/s]\u001b[A\u001b[A\n",
            "\n",
            "C&W L_2:   4%|▍         | 5/114 [00:03<01:20,  1.35it/s]\u001b[A\u001b[A\n",
            "\n",
            "C&W L_2:   5%|▌         | 6/114 [00:04<01:17,  1.39it/s]\u001b[A\u001b[A\n",
            "\n",
            "C&W L_2:   6%|▌         | 7/114 [00:05<01:21,  1.31it/s]\u001b[A\u001b[A\n",
            "\n",
            "C&W L_2:   7%|▋         | 8/114 [00:05<01:15,  1.40it/s]\u001b[A\u001b[A\n",
            "\n",
            "C&W L_2:   8%|▊         | 9/114 [00:06<01:17,  1.35it/s]\u001b[A\u001b[A\n",
            "\n",
            "C&W L_2:   9%|▉         | 10/114 [00:07<01:14,  1.40it/s]\u001b[A\u001b[A\n",
            "\n",
            "C&W L_2:  10%|▉         | 11/114 [00:07<01:12,  1.42it/s]\u001b[A\u001b[A\n",
            "\n",
            "C&W L_2:  11%|█         | 12/114 [00:08<01:16,  1.34it/s]\u001b[A\u001b[A\n",
            "\n",
            "C&W L_2:  11%|█▏        | 13/114 [00:09<01:11,  1.40it/s]\u001b[A\u001b[A\n",
            "\n",
            "C&W L_2:  12%|█▏        | 14/114 [00:09<01:09,  1.45it/s]\u001b[A\u001b[A\n",
            "\n",
            "C&W L_2:  13%|█▎        | 15/114 [00:10<01:12,  1.36it/s]\u001b[A\u001b[A\n",
            "\n",
            "C&W L_2:  14%|█▍        | 16/114 [00:11<01:15,  1.30it/s]\u001b[A\u001b[A\n",
            "\n",
            "C&W L_2:  15%|█▍        | 17/114 [00:12<01:10,  1.37it/s]\u001b[A\u001b[A\n",
            "\n",
            "C&W L_2:  16%|█▌        | 18/114 [00:12<01:07,  1.42it/s]\u001b[A\u001b[A\n",
            "\n",
            "C&W L_2:  17%|█▋        | 19/114 [00:13<01:05,  1.44it/s]\u001b[A\u001b[A\n",
            "\n",
            "C&W L_2:  18%|█▊        | 20/114 [00:14<01:04,  1.46it/s]\u001b[A\u001b[A\n",
            "\n",
            "C&W L_2:  18%|█▊        | 21/114 [00:14<01:03,  1.47it/s]\u001b[A\u001b[A\n",
            "\n",
            "C&W L_2:  19%|█▉        | 22/114 [00:15<01:01,  1.49it/s]\u001b[A\u001b[A\n",
            "\n",
            "C&W L_2:  20%|██        | 23/114 [00:16<01:01,  1.49it/s]\u001b[A\u001b[A\n",
            "\n",
            "C&W L_2:  21%|██        | 24/114 [00:16<01:00,  1.50it/s]\u001b[A\u001b[A\n",
            "\n",
            "C&W L_2:  22%|██▏       | 25/114 [00:17<01:04,  1.38it/s]\u001b[A\u001b[A\n",
            "\n",
            "C&W L_2:  23%|██▎       | 26/114 [00:18<01:03,  1.39it/s]\u001b[A\u001b[A\n",
            "\n",
            "C&W L_2:  24%|██▎       | 27/114 [00:19<01:05,  1.32it/s]\u001b[A\u001b[A\n",
            "\n",
            "C&W L_2:  25%|██▍       | 28/114 [00:19<01:01,  1.39it/s]\u001b[A\u001b[A\n",
            "\n",
            "C&W L_2:  25%|██▌       | 29/114 [00:20<00:58,  1.45it/s]\u001b[A\u001b[A\n",
            "\n",
            "C&W L_2:  26%|██▋       | 30/114 [00:21<01:00,  1.38it/s]\u001b[A\u001b[A\n",
            "\n",
            "C&W L_2:  27%|██▋       | 31/114 [00:22<00:58,  1.42it/s]\u001b[A\u001b[A\n",
            "\n",
            "C&W L_2:  28%|██▊       | 32/114 [00:22<00:59,  1.38it/s]\u001b[A\u001b[A\n",
            "\n",
            "C&W L_2:  29%|██▉       | 33/114 [00:23<00:57,  1.40it/s]\u001b[A\u001b[A\n",
            "\n",
            "C&W L_2:  30%|██▉       | 34/114 [00:24<00:58,  1.36it/s]\u001b[A\u001b[A\n",
            "\n",
            "C&W L_2:  31%|███       | 35/114 [00:25<00:58,  1.36it/s]\u001b[A\u001b[A\n",
            "\n",
            "C&W L_2:  32%|███▏      | 36/114 [00:25<00:57,  1.35it/s]\u001b[A\u001b[A\n",
            "\n",
            "C&W L_2:  32%|███▏      | 37/114 [00:26<00:56,  1.36it/s]\u001b[A\u001b[A\n",
            "\n",
            "C&W L_2:  33%|███▎      | 38/114 [00:27<00:56,  1.34it/s]\u001b[A\u001b[A\n",
            "\n",
            "C&W L_2:  34%|███▍      | 39/114 [00:28<00:58,  1.29it/s]\u001b[A\u001b[A\n",
            "\n",
            "C&W L_2:  35%|███▌      | 40/114 [00:28<00:55,  1.33it/s]\u001b[A\u001b[A\n",
            "\n",
            "C&W L_2:  36%|███▌      | 41/114 [00:29<00:54,  1.34it/s]\u001b[A\u001b[A\n",
            "\n",
            "C&W L_2:  37%|███▋      | 42/114 [00:30<00:53,  1.35it/s]\u001b[A\u001b[A\n",
            "\n",
            "C&W L_2:  38%|███▊      | 43/114 [00:30<00:52,  1.36it/s]\u001b[A\u001b[A\n",
            "\n",
            "C&W L_2:  39%|███▊      | 44/114 [00:31<00:55,  1.26it/s]\u001b[A\u001b[A\n",
            "\n",
            "C&W L_2:  39%|███▉      | 45/114 [00:32<00:51,  1.33it/s]\u001b[A\u001b[A\n",
            "\n",
            "C&W L_2:  40%|████      | 46/114 [00:33<00:49,  1.38it/s]\u001b[A\u001b[A\n",
            "\n",
            "C&W L_2:  41%|████      | 47/114 [00:34<00:49,  1.34it/s]\u001b[A\u001b[A\n",
            "\n",
            "C&W L_2:  42%|████▏     | 48/114 [00:34<00:47,  1.38it/s]\u001b[A\u001b[A\n",
            "\n",
            "C&W L_2:  43%|████▎     | 49/114 [00:35<00:45,  1.44it/s]\u001b[A\u001b[A\n",
            "\n",
            "C&W L_2:  44%|████▍     | 50/114 [00:35<00:43,  1.46it/s]\u001b[A\u001b[A\n",
            "\n",
            "C&W L_2:  45%|████▍     | 51/114 [00:36<00:44,  1.43it/s]\u001b[A\u001b[A\n",
            "\n",
            "C&W L_2:  46%|████▌     | 52/114 [00:37<00:42,  1.47it/s]\u001b[A\u001b[A\n",
            "\n",
            "C&W L_2:  46%|████▋     | 53/114 [00:38<00:44,  1.39it/s]\u001b[A\u001b[A\n",
            "\n",
            "C&W L_2:  47%|████▋     | 54/114 [00:38<00:42,  1.42it/s]\u001b[A\u001b[A\n",
            "\n",
            "C&W L_2:  48%|████▊     | 55/114 [00:39<00:43,  1.34it/s]\u001b[A\u001b[A\n",
            "\n",
            "C&W L_2:  49%|████▉     | 56/114 [00:40<00:40,  1.43it/s]\u001b[A\u001b[A\n",
            "\n",
            "C&W L_2:  50%|█████     | 57/114 [00:40<00:38,  1.48it/s]\u001b[A\u001b[A\n",
            "\n",
            "C&W L_2:  51%|█████     | 58/114 [00:41<00:40,  1.38it/s]\u001b[A\u001b[A\n",
            "\n",
            "C&W L_2:  52%|█████▏    | 59/114 [00:42<00:41,  1.32it/s]\u001b[A\u001b[A\n",
            "\n",
            "C&W L_2:  53%|█████▎    | 60/114 [00:43<00:39,  1.36it/s]\u001b[A\u001b[A\n",
            "\n",
            "C&W L_2:  54%|█████▎    | 61/114 [00:43<00:37,  1.42it/s]\u001b[A\u001b[A\n",
            "\n",
            "C&W L_2:  54%|█████▍    | 62/114 [00:44<00:35,  1.45it/s]\u001b[A\u001b[A\n",
            "\n",
            "C&W L_2:  55%|█████▌    | 63/114 [00:45<00:34,  1.49it/s]\u001b[A\u001b[A\n",
            "\n",
            "C&W L_2:  56%|█████▌    | 64/114 [00:46<00:35,  1.39it/s]\u001b[A\u001b[A\n",
            "\n",
            "C&W L_2:  57%|█████▋    | 65/114 [00:46<00:34,  1.44it/s]\u001b[A\u001b[A\n",
            "\n",
            "C&W L_2:  58%|█████▊    | 66/114 [00:47<00:32,  1.47it/s]\u001b[A\u001b[A\n",
            "\n",
            "C&W L_2:  59%|█████▉    | 67/114 [00:47<00:31,  1.52it/s]\u001b[A\u001b[A\n",
            "\n",
            "C&W L_2:  60%|█████▉    | 68/114 [00:48<00:31,  1.47it/s]\u001b[A\u001b[A\n",
            "\n",
            "C&W L_2:  61%|██████    | 69/114 [00:49<00:30,  1.47it/s]\u001b[A\u001b[A\n",
            "\n",
            "C&W L_2:  61%|██████▏   | 70/114 [00:49<00:29,  1.52it/s]\u001b[A\u001b[A\n",
            "\n",
            "C&W L_2:  62%|██████▏   | 71/114 [00:50<00:28,  1.53it/s]\u001b[A\u001b[A\n",
            "\n",
            "C&W L_2:  63%|██████▎   | 72/114 [00:51<00:27,  1.54it/s]\u001b[A\u001b[A\n",
            "\n",
            "C&W L_2:  64%|██████▍   | 73/114 [00:51<00:26,  1.56it/s]\u001b[A\u001b[A\n",
            "\n",
            "C&W L_2:  65%|██████▍   | 74/114 [00:52<00:26,  1.50it/s]\u001b[A\u001b[A\n",
            "\n",
            "C&W L_2:  66%|██████▌   | 75/114 [00:53<00:25,  1.53it/s]\u001b[A\u001b[A\n",
            "\n",
            "C&W L_2:  67%|██████▋   | 76/114 [00:53<00:24,  1.55it/s]\u001b[A\u001b[A\n",
            "\n",
            "C&W L_2:  68%|██████▊   | 77/114 [00:54<00:24,  1.52it/s]\u001b[A\u001b[A\n",
            "\n",
            "C&W L_2:  68%|██████▊   | 78/114 [00:55<00:23,  1.55it/s]\u001b[A\u001b[A\n",
            "\n",
            "C&W L_2:  69%|██████▉   | 79/114 [00:55<00:24,  1.43it/s]\u001b[A\u001b[A\n",
            "\n",
            "C&W L_2:  70%|███████   | 80/114 [00:56<00:24,  1.39it/s]\u001b[A\u001b[A\n",
            "\n",
            "C&W L_2:  71%|███████   | 81/114 [00:57<00:23,  1.43it/s]\u001b[A\u001b[A\n",
            "\n",
            "C&W L_2:  72%|███████▏  | 82/114 [00:58<00:22,  1.41it/s]\u001b[A\u001b[A\n",
            "\n",
            "C&W L_2:  73%|███████▎  | 83/114 [00:58<00:21,  1.44it/s]\u001b[A\u001b[A\n",
            "\n",
            "C&W L_2:  74%|███████▎  | 84/114 [00:59<00:20,  1.47it/s]\u001b[A\u001b[A\n",
            "\n",
            "C&W L_2:  75%|███████▍  | 85/114 [01:00<00:19,  1.47it/s]\u001b[A\u001b[A\n",
            "\n",
            "C&W L_2:  75%|███████▌  | 86/114 [01:00<00:19,  1.40it/s]\u001b[A\u001b[A\n",
            "\n",
            "C&W L_2:  76%|███████▋  | 87/114 [01:01<00:19,  1.42it/s]\u001b[A\u001b[A\n",
            "\n",
            "C&W L_2:  77%|███████▋  | 88/114 [01:02<00:17,  1.45it/s]\u001b[A\u001b[A\n",
            "\n",
            "C&W L_2:  78%|███████▊  | 89/114 [01:02<00:16,  1.49it/s]\u001b[A\u001b[A\n",
            "\n",
            "C&W L_2:  79%|███████▉  | 90/114 [01:03<00:17,  1.37it/s]\u001b[A\u001b[A\n",
            "\n",
            "C&W L_2:  80%|███████▉  | 91/114 [01:04<00:17,  1.31it/s]\u001b[A\u001b[A\n",
            "\n",
            "C&W L_2:  81%|████████  | 92/114 [01:05<00:15,  1.39it/s]\u001b[A\u001b[A\n",
            "\n",
            "C&W L_2:  82%|████████▏ | 93/114 [01:05<00:14,  1.43it/s]\u001b[A\u001b[A\n",
            "\n",
            "C&W L_2:  82%|████████▏ | 94/114 [01:06<00:13,  1.46it/s]\u001b[A\u001b[A\n",
            "\n",
            "C&W L_2:  83%|████████▎ | 95/114 [01:07<00:13,  1.46it/s]\u001b[A\u001b[A\n",
            "\n",
            "C&W L_2:  84%|████████▍ | 96/114 [01:07<00:12,  1.47it/s]\u001b[A\u001b[A\n",
            "\n",
            "C&W L_2:  85%|████████▌ | 97/114 [01:08<00:11,  1.48it/s]\u001b[A\u001b[A\n",
            "\n",
            "C&W L_2:  86%|████████▌ | 98/114 [01:09<00:11,  1.36it/s]\u001b[A\u001b[A\n",
            "\n",
            "C&W L_2:  87%|████████▋ | 99/114 [01:09<00:10,  1.42it/s]\u001b[A\u001b[A\n",
            "\n",
            "C&W L_2:  88%|████████▊ | 100/114 [01:10<00:09,  1.42it/s]\u001b[A\u001b[A\n",
            "\n",
            "C&W L_2:  89%|████████▊ | 101/114 [01:11<00:09,  1.35it/s]\u001b[A\u001b[A\n",
            "\n",
            "C&W L_2:  89%|████████▉ | 102/114 [01:12<00:08,  1.43it/s]\u001b[A\u001b[A\n",
            "\n",
            "C&W L_2:  90%|█████████ | 103/114 [01:12<00:07,  1.47it/s]\u001b[A\u001b[A\n",
            "\n",
            "C&W L_2:  91%|█████████ | 104/114 [01:13<00:06,  1.51it/s]\u001b[A\u001b[A\n",
            "\n",
            "C&W L_2:  92%|█████████▏| 105/114 [01:14<00:06,  1.40it/s]\u001b[A\u001b[A\n",
            "\n",
            "C&W L_2:  93%|█████████▎| 106/114 [01:14<00:05,  1.45it/s]\u001b[A\u001b[A\n",
            "\n",
            "C&W L_2:  94%|█████████▍| 107/114 [01:15<00:05,  1.40it/s]\u001b[A\u001b[A\n",
            "\n",
            "C&W L_2:  95%|█████████▍| 108/114 [01:16<00:04,  1.37it/s]\u001b[A\u001b[A\n",
            "\n",
            "C&W L_2:  96%|█████████▌| 109/114 [01:17<00:03,  1.33it/s]\u001b[A\u001b[A\n",
            "\n",
            "C&W L_2:  96%|█████████▋| 110/114 [01:17<00:02,  1.36it/s]\u001b[A\u001b[A\n",
            "\n",
            "C&W L_2:  97%|█████████▋| 111/114 [01:18<00:02,  1.43it/s]\u001b[A\u001b[A\n",
            "\n",
            "C&W L_2:  98%|█████████▊| 112/114 [01:19<00:01,  1.38it/s]\u001b[A\u001b[A\n",
            "\n",
            "C&W L_2:  99%|█████████▉| 113/114 [01:19<00:00,  1.44it/s]\u001b[A\u001b[A\n",
            "\n",
            "C&W L_2: 100%|██████████| 114/114 [01:20<00:00,  1.41it/s]\n",
            "\n",
            "\n",
            "Boundary attack:   0%|          | 0/114 [00:00<?, ?it/s]\u001b[A\u001b[A\n",
            "\n",
            "Boundary attack:   7%|▋         | 8/114 [02:46<36:46, 20.82s/it]\u001b[A\u001b[A\n",
            "\n",
            "Boundary attack:  39%|███▉      | 45/114 [05:22<18:12, 15.83s/it]\u001b[A\u001b[A\n",
            "\n",
            "Boundary attack:  60%|█████▉    | 68/114 [08:13<10:12, 13.32s/it]\u001b[A\u001b[A"
          ],
          "name": "stderr"
        }
      ]
    },
    {
      "cell_type": "code",
      "metadata": {
        "id": "JtA50HsG5e70"
      },
      "source": [
        "print(\"Accuracy on FGM test examples: {}%\".format(attack_a2 * 100))\n",
        "print(\"Accuracy on DeepFool attacked test examples: {}%\".format(attack_a3 * 100))\n",
        "print(\"Accuracy on BIM test examples: {}%\".format(attack_a4 * 100))\n",
        "print(\"Accuracy on C&W L2 test examples: {}%\".format(attack_a5 * 100))\n",
        "print(\"Accuracy on BoundaryAttack test examples: {}%\".format(attack_a6 * 100))"
      ],
      "execution_count": null,
      "outputs": []
    }
  ]
}